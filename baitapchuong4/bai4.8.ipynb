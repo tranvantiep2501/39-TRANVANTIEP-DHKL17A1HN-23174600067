{
 "cells": [
  {
   "cell_type": "code",
   "execution_count": 1,
   "metadata": {},
   "outputs": [
    {
     "name": "stdout",
     "output_type": "stream",
     "text": [
      "0      Q6\n",
      "1      Q8\n",
      "2      Q7\n",
      "3      Q6\n",
      "4      Q5\n",
      "5      Q7\n",
      "6      Q5\n",
      "7      Q9\n",
      "8     Q10\n",
      "9      Q4\n",
      "10     Q8\n",
      "11     Q6\n",
      "12     Q6\n",
      "13    Q10\n",
      "14     Q1\n",
      "15     Q1\n",
      "16     Q1\n",
      "17     Q9\n",
      "18     Q8\n",
      "19     Q9\n",
      "dtype: category\n",
      "Categories (10, object): ['Q1' < 'Q2' < 'Q3' < 'Q4' ... 'Q7' < 'Q8' < 'Q9' < 'Q10']\n"
     ]
    }
   ],
   "source": [
    "import pandas as pd\n",
    "import numpy as np\n",
    "\n",
    "# Tạo Series ngẫu nhiên với 20 giá trị từ 0 đến 1\n",
    "np.random.seed(0)\n",
    "ser = pd.Series(np.random.random(20))\n",
    "\n",
    "# Sử dụng pd.cut để chia thành 10 phân vị và gán tên phân vị\n",
    "bins = np.linspace(0, 1, 11)\n",
    "labels = [f'Q{i+1}' for i in range(10)]\n",
    "ser_deciles = pd.cut(ser, bins=bins, labels=labels, include_lowest=True)\n",
    "\n",
    "# In kết quả\n",
    "print(ser_deciles)\n"
   ]
  }
 ],
 "metadata": {
  "kernelspec": {
   "display_name": "Python 3",
   "language": "python",
   "name": "python3"
  },
  "language_info": {
   "codemirror_mode": {
    "name": "ipython",
    "version": 3
   },
   "file_extension": ".py",
   "mimetype": "text/x-python",
   "name": "python",
   "nbconvert_exporter": "python",
   "pygments_lexer": "ipython3",
   "version": "3.12.8"
  }
 },
 "nbformat": 4,
 "nbformat_minor": 2
}
