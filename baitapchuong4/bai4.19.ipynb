{
 "cells": [
  {
   "cell_type": "code",
   "execution_count": 1,
   "metadata": {},
   "outputs": [
    {
     "name": "stdout",
     "output_type": "stream",
     "text": [
      "Khối lượng trung bình của từng loại trái cây:\n",
      "         weights\n",
      "fruit           \n",
      "apple   5.333333\n",
      "banana  5.750000\n"
     ]
    }
   ],
   "source": [
    "import pandas as pd\n",
    "import numpy as np\n",
    "\n",
    "# Dữ liệu đầu vào\n",
    "fruit = pd.Series(np.random.choice(['apple', 'banana', 'carrot'], 10))\n",
    "weights = pd.Series(np.linspace(1, 10, 10))\n",
    "\n",
    "# Tạo DataFrame từ hai Series\n",
    "df = pd.DataFrame({'fruit': fruit, 'weights': weights})\n",
    "\n",
    "# Sử dụng pivot_table để tính khối lượng trung bình của từng loại trái cây\n",
    "tb_weights = df.pivot_table(values='weights', index='fruit', aggfunc='mean')\n",
    "\n",
    "print(\"Khối lượng trung bình của từng loại trái cây:\")\n",
    "print(tb_weights)\n"
   ]
  }
 ],
 "metadata": {
  "kernelspec": {
   "display_name": "Python 3",
   "language": "python",
   "name": "python3"
  },
  "language_info": {
   "codemirror_mode": {
    "name": "ipython",
    "version": 3
   },
   "file_extension": ".py",
   "mimetype": "text/x-python",
   "name": "python",
   "nbconvert_exporter": "python",
   "pygments_lexer": "ipython3",
   "version": "3.12.8"
  }
 },
 "nbformat": 4,
 "nbformat_minor": 2
}
