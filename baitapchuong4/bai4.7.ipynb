{
 "cells": [
  {
   "cell_type": "code",
   "execution_count": null,
   "metadata": {},
   "outputs": [],
   "source": [
    "import pandas as pd\n",
    "import numpy as np\n",
    "\n",
    "# Tạo Series ngẫu nhiên:\n",
    "ser = pd.Series(np.take(list('abcdefgh'), np.random.randint(8, size=30)))\n",
    "\n",
    "# Tạo từ điển để đếm số lần xuất hiện : \n",
    "count_dict = {}\n",
    "for item in ser:\n",
    "    if item in count_dict:\n",
    "        count_dict[item] += 1\n",
    "    else:\n",
    "        count_dict[item] = 1\n",
    "\n",
    "# Chuyển đổi từ điển thành Series để dễ dàng hiển thị : \n",
    "count_values = pd.Series(count_dict)\n",
    "\n",
    "print(\"Số lần xuất hiện của mỗi giá trị duy nhất:\")\n",
    "print(count_values)\n"
   ]
  }
 ],
 "metadata": {
  "kernelspec": {
   "display_name": "Python 3",
   "language": "python",
   "name": "python3"
  },
  "language_info": {
   "name": "python",
   "version": "3.12.8"
  }
 },
 "nbformat": 4,
 "nbformat_minor": 2
}
