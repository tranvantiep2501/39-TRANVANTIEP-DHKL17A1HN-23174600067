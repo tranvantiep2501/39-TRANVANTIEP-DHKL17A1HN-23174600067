{
 "cells": [
  {
   "cell_type": "code",
   "execution_count": null,
   "metadata": {},
   "outputs": [],
   "source": [
    "import pandas as pd\n",
    "import numpy as np\n",
    "\n",
    "# Tạo Series ngẫu nhiên với 7 giá trị nguyên từ 1 đến 9 : \n",
    "ser = pd.Series(np.random.randint(1, 10, 7))\n",
    "\n",
    "# Tìm vị trí các số là bội của 3 ; \n",
    "positions = ser[ser % 3 == 0].index\n",
    "\n",
    "# In kết quả : \n",
    "print(\"Series:\", ser)\n",
    "print(\"\\nVị trí các số là bội của 3:\", positions)"
   ]
  }
 ],
 "metadata": {
  "kernelspec": {
   "display_name": "Python 3",
   "language": "python",
   "name": "python3"
  },
  "language_info": {
   "name": "python",
   "version": "3.12.8"
  }
 },
 "nbformat": 4,
 "nbformat_minor": 2
}
