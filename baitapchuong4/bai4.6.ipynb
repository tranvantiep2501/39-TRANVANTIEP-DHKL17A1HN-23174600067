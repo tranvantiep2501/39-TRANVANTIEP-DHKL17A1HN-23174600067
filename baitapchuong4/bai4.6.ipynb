{
 "cells": [
  {
   "cell_type": "code",
   "execution_count": 1,
   "metadata": {},
   "outputs": [
    {
     "name": "stdout",
     "output_type": "stream",
     "text": [
      "g    6\n",
      "f    4\n",
      "d    4\n",
      "b    4\n",
      "h    4\n",
      "e    3\n",
      "c    3\n",
      "a    2\n",
      "Name: count, dtype: int64\n"
     ]
    }
   ],
   "source": [
    "import pandas as pd\n",
    "import numpy as np\n",
    "\n",
    "# Tạo Series ngẫu nhiên : \n",
    "ser=pd.Series(np.take(list('abcdefgh'),np.random.randint(8,size=30)))\n",
    "\"\"\"\n",
    "1. Giải thích ý nghĩa đoạn code \n",
    "np.take() được sử dụng để lấy các phần tử từ danh sách ['a', 'b', 'c', 'd', 'e', 'f', 'g', 'h'] theo các chỉ số được tạo ngẫu nhiên (từ np.random.randint(8, size=30)).\n",
    "Kết quả là một mảng gồm 30 ký tự, mỗi ký tự được chọn ngẫu nhiên từ danh sách.\n",
    "\n",
    "\"\"\"\n",
    "# 2. Tính số lần xuất hiện của mỗi giá trị duy nhất trong ser\n",
    "count_values = ser.value_counts()\n",
    "print(count_values)"
   ]
  }
 ],
 "metadata": {
  "kernelspec": {
   "display_name": "Python 3",
   "language": "python",
   "name": "python3"
  },
  "language_info": {
   "codemirror_mode": {
    "name": "ipython",
    "version": 3
   },
   "file_extension": ".py",
   "mimetype": "text/x-python",
   "name": "python",
   "nbconvert_exporter": "python",
   "pygments_lexer": "ipython3",
   "version": "3.12.8"
  }
 },
 "nbformat": 4,
 "nbformat_minor": 2
}
