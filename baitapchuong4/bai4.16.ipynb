{
 "cells": [
  {
   "cell_type": "code",
   "execution_count": null,
   "metadata": {},
   "outputs": [],
   "source": [
    "import pandas as pd\n",
    "import numpy as np\n",
    "\n",
    "ser = pd.Series([1, 3, 6, 10, 15, 21, 27, 35])\n",
    "\n",
    "# Bước 1: Tính hiệu số giữa các phần tử liên tiếp:\n",
    "diff_1 = ser.diff()\n",
    "\n",
    "# Bước 2: Tính hiệu số của các hiệu số : \n",
    "diff_2 = diff_1.diff()\n",
    "\n",
    "print(diff_2)"
   ]
  }
 ],
 "metadata": {
  "kernelspec": {
   "display_name": "Python 3",
   "language": "python",
   "name": "python3"
  },
  "language_info": {
   "name": "python",
   "version": "3.12.8"
  }
 },
 "nbformat": 4,
 "nbformat_minor": 2
}
