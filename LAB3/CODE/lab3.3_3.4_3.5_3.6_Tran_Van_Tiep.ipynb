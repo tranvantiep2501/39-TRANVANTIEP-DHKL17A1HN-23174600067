{
 "cells": [
  {
   "cell_type": "markdown",
   "metadata": {},
   "source": [
    "ĐỌC FILE STOCKS2.CSV\n"
   ]
  },
  {
   "cell_type": "code",
   "execution_count": 35,
   "metadata": {},
   "outputs": [],
   "source": [
    "import pandas as pd\n",
    "stocks1=pd.read_csv('D:/17A3KHDL/LAB3/DATA/stocks1.csv')\n",
    "stocks2=pd.read_csv('D:/17A3KHDL/LAB3/DATA/stocks2.csv')"
   ]
  },
  {
   "cell_type": "markdown",
   "metadata": {},
   "source": [
    "GỘP STOCKS1 VÀ STOCKS2 THÀNH STOCKS\n"
   ]
  },
  {
   "cell_type": "code",
   "execution_count": 36,
   "metadata": {},
   "outputs": [
    {
     "name": "stdout",
     "output_type": "stream",
     "text": [
      "        date symbol     open       high      low    close    volume\n",
      "0   01-03-19   AMZN  1655.13  1674.2600  1651.00  1671.73   4974877\n",
      "1   04-03-19   AMZN  1685.00  1709.4300  1674.36  1696.17   6167358\n",
      "2   05-03-19   AMZN  1702.95  1707.8000  1689.01  1692.43   3681522\n",
      "3   06-03-19   AMZN  1695.97        NaN      NaN  1668.95   3996001\n",
      "4   07-03-19   AMZN  1667.37  1669.7500  1620.51  1625.95   4957017\n",
      "5   01-03-19   AAPL   174.28   175.1500   172.89   174.97  25886167\n",
      "6   04-03-19   AAPL   175.69   177.7500   173.97   175.85  27436203\n",
      "7   05-03-19   AAPL   175.94   176.0000   174.54   175.53  19737419\n",
      "8   06-03-19   AAPL   174.67   175.4900   173.94   174.52  20810384\n",
      "9   07-03-19   AAPL   173.87   174.4400   172.02   172.50  24796374\n",
      "10  01-03-19   GOOG  1124.90  1142.9700  1124.75  1140.99   1450316\n",
      "11  04-03-19   GOOG  1146.99  1158.2800  1130.69  1147.80   1446047\n",
      "12  05-03-19   GOOG  1150.06        NaN      NaN  1162.03   1443174\n",
      "13  06-03-19   GOOG  1162.49  1167.5700  1155.49  1157.86   1099289\n",
      "14  07-03-19   GOOG  1155.72  1156.7600  1134.91  1143.30   1166559\n",
      "15  01-03-19     FB   162.60   163.1320   161.69   162.28  11097770\n",
      "16  04-03-19     FB   163.90   167.5000   163.83   167.37  18894689\n",
      "17  05-03-19     FB   167.37   171.8800   166.55   171.26  28187890\n",
      "18  06-03-19     FB   172.90   173.5700   171.27   172.51  21531723\n",
      "19  07-03-19     FB   171.50   171.7400   167.61   169.13  18306504\n",
      "20  01-03-19   TSLA   306.94   307.1300   291.90   294.79  22911375\n",
      "21  04-03-19   TSLA   298.12   299.0000   282.78   285.36  17096818\n",
      "22  05-03-19   TSLA   282.00   284.0000   270.10   276.54  18764740\n",
      "23  06-03-19   TSLA   276.48   281.5058   274.39   276.24  10335485\n",
      "24  07-03-19   TSLA   278.84   284.7000   274.25   276.59   9442483\n"
     ]
    }
   ],
   "source": [
    "stocks=pd.concat([stocks1,stocks2], ignore_index=True)\n",
    "print(stocks)"
   ]
  },
  {
   "cell_type": "markdown",
   "metadata": {},
   "source": [
    "TÍNH GIÁ TRỊ TRUNG BÌNH (OPEN,HIGH,LOW,CLOSE) CHO MỖI NGÀY\n"
   ]
  },
  {
   "cell_type": "code",
   "execution_count": 37,
   "metadata": {},
   "outputs": [
    {
     "name": "stdout",
     "output_type": "stream",
     "text": [
      "Giá trung bình (open, high, low, close) cho mỗi ngày :\n",
      "               open       high       low    close\n",
      "date                                             \n",
      "2019-01-03  684.770  692.52840  680.4460  688.952\n",
      "2019-04-03  693.940  702.39200  685.1260  694.510\n",
      "2019-05-03  695.664  584.92000  575.0500  695.558\n",
      "2019-06-03  696.502  449.53395  443.7725  690.016\n",
      "2019-07-03  689.460  691.47800  673.8600  677.494\n"
     ]
    },
    {
     "name": "stderr",
     "output_type": "stream",
     "text": [
      "C:\\Users\\Admin\\AppData\\Local\\Temp\\ipykernel_21216\\2992330722.py:1: UserWarning: Could not infer format, so each element will be parsed individually, falling back to `dateutil`. To ensure parsing is consistent and as-expected, please specify a format.\n",
      "  stocks['date'] = pd.to_datetime(stocks['date'])\n"
     ]
    }
   ],
   "source": [
    "stocks['date'] = pd.to_datetime(stocks['date'])\n",
    "stocks_ngay = stocks.groupby('date')[['open', 'high', 'low', 'close']].mean()\n",
    "print('Giá trung bình (open, high, low, close) cho mỗi ngày :')\n",
    "print(stocks_ngay)\n"
   ]
  },
  {
   "cell_type": "markdown",
   "metadata": {},
   "source": [
    "HIỂN THỊ 5 DÒNG ĐẦU TIÊN CỦA HEAD\n"
   ]
  },
  {
   "cell_type": "code",
   "execution_count": 21,
   "metadata": {},
   "outputs": [
    {
     "name": "stdout",
     "output_type": "stream",
     "text": [
      "Hiển thi 5 dòng đầu của kết quả :\n",
      "        date symbol     open     high      low    close   volume  mean_open  \\\n",
      "0 2019-01-03   AMZN  1655.13  1674.26  1651.00  1671.73  4974877    1655.13   \n",
      "1 2019-04-03   AMZN  1685.00  1709.43  1674.36  1696.17  6167358    1685.00   \n",
      "2 2019-05-03   AMZN  1702.95  1707.80  1689.01  1692.43  3681522    1702.95   \n",
      "3 2019-06-03   AMZN  1695.97      NaN      NaN  1668.95  3996001    1695.97   \n",
      "4 2019-07-03   AMZN  1667.37  1669.75  1620.51  1625.95  4957017    1667.37   \n",
      "\n",
      "   mean_high  mean_low  mean_close  \n",
      "0    1674.26   1651.00     1671.73  \n",
      "1    1709.43   1674.36     1696.17  \n",
      "2    1707.80   1689.01     1692.43  \n",
      "3        NaN       NaN     1668.95  \n",
      "4    1669.75   1620.51     1625.95  \n"
     ]
    }
   ],
   "source": [
    "print('Hiển thi 5 dòng đầu của kết quả :')\n",
    "print(stocks.head())"
   ]
  },
  {
   "cell_type": "markdown",
   "metadata": {},
   "source": [
    "LAB3.4\n"
   ]
  },
  {
   "cell_type": "markdown",
   "metadata": {},
   "source": [
    "ĐỌC FILE COMPANIES\n"
   ]
  },
  {
   "cell_type": "code",
   "execution_count": 5,
   "metadata": {},
   "outputs": [],
   "source": [
    "companies=pd.read_csv('D:/17A3KHDL/LAB3/DATA/companies.csv')"
   ]
  },
  {
   "cell_type": "markdown",
   "metadata": {},
   "source": [
    "HIỂN THỊ 5 DÒNG ĐẦU TIÊN CỦA COMPANIES"
   ]
  },
  {
   "cell_type": "code",
   "execution_count": 6,
   "metadata": {},
   "outputs": [
    {
     "name": "stdout",
     "output_type": "stream",
     "text": [
      "Hiển thị 5 dòng đầu :\n",
      "   name  employees headquarters_city headquarters_state\n",
      "0  AMZN     613300           Seattle                 WA\n",
      "1  GOOG      98771     Mountain View                 CA\n",
      "2  AAPL     132000         Cupertino                 CA\n",
      "3    FB      48268        Menlo Park                 CA\n",
      "4  TSLA      48016         Palo Alto                 CA\n"
     ]
    }
   ],
   "source": [
    "print('Hiển thị 5 dòng đầu :')\n",
    "print(companies.head())"
   ]
  },
  {
   "cell_type": "markdown",
   "metadata": {},
   "source": [
    "KẾT HỢP STOCKS VÀ COMPANIES DỰA TRÊN CỘT CHUNG LÀ SYMBOL\n"
   ]
  },
  {
   "cell_type": "code",
   "execution_count": 26,
   "metadata": {},
   "outputs": [
    {
     "name": "stdout",
     "output_type": "stream",
     "text": [
      "Dữ liệu sau khi kết hợp là :\n",
      "         date symbol     open       high      low    close    volume  name  \\\n",
      "0  2019-01-03   AMZN  1655.13  1674.2600  1651.00  1671.73   4974877  AMZN   \n",
      "1  2019-04-03   AMZN  1685.00  1709.4300  1674.36  1696.17   6167358  AMZN   \n",
      "2  2019-05-03   AMZN  1702.95  1707.8000  1689.01  1692.43   3681522  AMZN   \n",
      "3  2019-06-03   AMZN  1695.97        NaN      NaN  1668.95   3996001  AMZN   \n",
      "4  2019-07-03   AMZN  1667.37  1669.7500  1620.51  1625.95   4957017  AMZN   \n",
      "5  2019-01-03   AAPL   174.28   175.1500   172.89   174.97  25886167  AAPL   \n",
      "6  2019-04-03   AAPL   175.69   177.7500   173.97   175.85  27436203  AAPL   \n",
      "7  2019-05-03   AAPL   175.94   176.0000   174.54   175.53  19737419  AAPL   \n",
      "8  2019-06-03   AAPL   174.67   175.4900   173.94   174.52  20810384  AAPL   \n",
      "9  2019-07-03   AAPL   173.87   174.4400   172.02   172.50  24796374  AAPL   \n",
      "10 2019-01-03   GOOG  1124.90  1142.9700  1124.75  1140.99   1450316  GOOG   \n",
      "11 2019-04-03   GOOG  1146.99  1158.2800  1130.69  1147.80   1446047  GOOG   \n",
      "12 2019-05-03   GOOG  1150.06        NaN      NaN  1162.03   1443174  GOOG   \n",
      "13 2019-06-03   GOOG  1162.49  1167.5700  1155.49  1157.86   1099289  GOOG   \n",
      "14 2019-07-03   GOOG  1155.72  1156.7600  1134.91  1143.30   1166559  GOOG   \n",
      "15 2019-01-03     FB   162.60   163.1320   161.69   162.28  11097770    FB   \n",
      "16 2019-04-03     FB   163.90   167.5000   163.83   167.37  18894689    FB   \n",
      "17 2019-05-03     FB   167.37   171.8800   166.55   171.26  28187890    FB   \n",
      "18 2019-06-03     FB   172.90   173.5700   171.27   172.51  21531723    FB   \n",
      "19 2019-07-03     FB   171.50   171.7400   167.61   169.13  18306504    FB   \n",
      "20 2019-01-03   TSLA   306.94   307.1300   291.90   294.79  22911375  TSLA   \n",
      "21 2019-04-03   TSLA   298.12   299.0000   282.78   285.36  17096818  TSLA   \n",
      "22 2019-05-03   TSLA   282.00   284.0000   270.10   276.54  18764740  TSLA   \n",
      "23 2019-06-03   TSLA   276.48   281.5058   274.39   276.24  10335485  TSLA   \n",
      "24 2019-07-03   TSLA   278.84   284.7000   274.25   276.59   9442483  TSLA   \n",
      "\n",
      "    employees headquarters_city headquarters_state  \n",
      "0      613300           Seattle                 WA  \n",
      "1      613300           Seattle                 WA  \n",
      "2      613300           Seattle                 WA  \n",
      "3      613300           Seattle                 WA  \n",
      "4      613300           Seattle                 WA  \n",
      "5      132000         Cupertino                 CA  \n",
      "6      132000         Cupertino                 CA  \n",
      "7      132000         Cupertino                 CA  \n",
      "8      132000         Cupertino                 CA  \n",
      "9      132000         Cupertino                 CA  \n",
      "10      98771     Mountain View                 CA  \n",
      "11      98771     Mountain View                 CA  \n",
      "12      98771     Mountain View                 CA  \n",
      "13      98771     Mountain View                 CA  \n",
      "14      98771     Mountain View                 CA  \n",
      "15      48268        Menlo Park                 CA  \n",
      "16      48268        Menlo Park                 CA  \n",
      "17      48268        Menlo Park                 CA  \n",
      "18      48268        Menlo Park                 CA  \n",
      "19      48268        Menlo Park                 CA  \n",
      "20      48016         Palo Alto                 CA  \n",
      "21      48016         Palo Alto                 CA  \n",
      "22      48016         Palo Alto                 CA  \n",
      "23      48016         Palo Alto                 CA  \n",
      "24      48016         Palo Alto                 CA  \n"
     ]
    }
   ],
   "source": [
    "ket_hop_stocks_companies=pd.merge(stocks,companies,left_on=\"symbol\",right_on=\"name\",how=\"inner\")\n",
    "print('Dữ liệu sau khi kết hợp là :')\n",
    "print(ket_hop_stocks_companies)"
   ]
  },
  {
   "cell_type": "markdown",
   "metadata": {},
   "source": [
    "TÍNH GIÁ ĐÓNG CỬA (CLOSE) TRUNG BÌNH CHO MỖI CÔNG TY\n"
   ]
  },
  {
   "cell_type": "code",
   "execution_count": 27,
   "metadata": {},
   "outputs": [
    {
     "name": "stdout",
     "output_type": "stream",
     "text": [
      "  Tên công ty  Giá đóng cửa trung bình\n",
      "0        AAPL                  174.674\n",
      "1        AMZN                 1671.046\n",
      "2          FB                  168.510\n",
      "3        GOOG                 1150.396\n",
      "4        TSLA                  281.904\n"
     ]
    }
   ],
   "source": [
    "gia_dong_cua_tb=ket_hop_stocks_companies.groupby(\"symbol\")[\"close\"].mean().reset_index()\n",
    "gia_dong_cua_tb.columns = [\"Tên công ty\", \"Giá đóng cửa trung bình\"]\n",
    "print(gia_dong_cua_tb)"
   ]
  },
  {
   "cell_type": "markdown",
   "metadata": {},
   "source": [
    "HIỂN THỊ 5 KẾT QUẢ ĐẦU"
   ]
  },
  {
   "cell_type": "code",
   "execution_count": 18,
   "metadata": {},
   "outputs": [
    {
     "name": "stdout",
     "output_type": "stream",
     "text": [
      "  Tên công ty  Giá đóng cửa trung bình\n",
      "0        AAPL                  174.674\n",
      "1        AMZN                 1671.046\n",
      "2          FB                  168.510\n",
      "3        GOOG                 1150.396\n",
      "4        TSLA                  281.904\n"
     ]
    }
   ],
   "source": [
    "print(gia_dong_cua_tb.head())"
   ]
  },
  {
   "cell_type": "markdown",
   "metadata": {},
   "source": [
    "LAB3.5\n"
   ]
  },
  {
   "cell_type": "markdown",
   "metadata": {},
   "source": [
    "1. Tạo MultiIndex cho DataFrame stocks bằng cách sử dụng cột date và symbol làm chỉ mục\n",
    "\n"
   ]
  },
  {
   "cell_type": "code",
   "execution_count": 38,
   "metadata": {},
   "outputs": [
    {
     "name": "stdout",
     "output_type": "stream",
     "text": [
      "DataFrame sau khi tạo MultiIndex:\n",
      "                      open     high      low    close   volume\n",
      "date       symbol                                             \n",
      "2019-01-03 AMZN    1655.13  1674.26  1651.00  1671.73  4974877\n",
      "2019-04-03 AMZN    1685.00  1709.43  1674.36  1696.17  6167358\n",
      "2019-05-03 AMZN    1702.95  1707.80  1689.01  1692.43  3681522\n",
      "2019-06-03 AMZN    1695.97      NaN      NaN  1668.95  3996001\n",
      "2019-07-03 AMZN    1667.37  1669.75  1620.51  1625.95  4957017\n"
     ]
    }
   ],
   "source": [
    "stocks.set_index([\"date\", \"symbol\"], inplace=True)\n",
    "print(\"DataFrame sau khi tạo MultiIndex:\")\n",
    "print(stocks.head())"
   ]
  },
  {
   "cell_type": "markdown",
   "metadata": {},
   "source": [
    "2.Sử dụng GroupBy để tính giá trung bình (open, high, low, close) và volume trung bình cho mỗi ngày, cho mỗi mã chứng khoán"
   ]
  },
  {
   "cell_type": "code",
   "execution_count": 43,
   "metadata": {},
   "outputs": [
    {
     "name": "stdout",
     "output_type": "stream",
     "text": [
      "Giá trung bình và volume trung bình của mỗi công ty:\n",
      "          open        high       low     close      volume\n",
      "name                                                      \n",
      "AAPL   174.890   175.76600   173.472   174.674  23733309.4\n",
      "AMZN  1681.284  1690.31000  1658.720  1671.046   4755355.0\n",
      "FB     167.654   169.56440   166.190   168.510  19603715.2\n",
      "GOOG  1148.032  1156.39500  1136.460  1150.396   1321077.0\n",
      "TSLA   288.476   291.26716   278.684   281.904  15710180.2\n"
     ]
    }
   ],
   "source": [
    "nhom_stocks = ket_hop_stocks_companies.groupby('name')\n",
    "\n",
    "gia_tri_tb = nhom_stocks.agg({ 'open': 'mean',\n",
    "                               'high': 'mean',\n",
    "                               'low': 'mean',\n",
    "                               'close': 'mean',\n",
    "                               'volume': 'mean'\n",
    "})\n",
    "\n",
    "print(\"Giá trung bình và volume trung bình của mỗi công ty:\")\n",
    "print(gia_tri_tb)"
   ]
  },
  {
   "cell_type": "markdown",
   "metadata": {},
   "source": [
    "3.Sắp xếp dữ liệu theo ngày và mã chứng khoán.\n"
   ]
  },
  {
   "cell_type": "code",
   "execution_count": 44,
   "metadata": {},
   "outputs": [],
   "source": [
    "sorted_data = ket_hop_stocks_companies.reset_index().sort_values(by=['date', 'symbol']).set_index(['date', 'symbol'])"
   ]
  },
  {
   "cell_type": "markdown",
   "metadata": {},
   "source": [
    "4. Hiển thị kết quả cho 5 ngày đầu tiên."
   ]
  },
  {
   "cell_type": "code",
   "execution_count": 46,
   "metadata": {},
   "outputs": [
    {
     "name": "stdout",
     "output_type": "stream",
     "text": [
      "                   index     open       high      low    close    volume  \\\n",
      "date       symbol                                                          \n",
      "2019-01-03 AAPL        5   174.28   175.1500   172.89   174.97  25886167   \n",
      "           AMZN        0  1655.13  1674.2600  1651.00  1671.73   4974877   \n",
      "           FB         15   162.60   163.1320   161.69   162.28  11097770   \n",
      "           GOOG       10  1124.90  1142.9700  1124.75  1140.99   1450316   \n",
      "           TSLA       20   306.94   307.1300   291.90   294.79  22911375   \n",
      "2019-04-03 AAPL        6   175.69   177.7500   173.97   175.85  27436203   \n",
      "           AMZN        1  1685.00  1709.4300  1674.36  1696.17   6167358   \n",
      "           FB         16   163.90   167.5000   163.83   167.37  18894689   \n",
      "           GOOG       11  1146.99  1158.2800  1130.69  1147.80   1446047   \n",
      "           TSLA       21   298.12   299.0000   282.78   285.36  17096818   \n",
      "2019-05-03 AAPL        7   175.94   176.0000   174.54   175.53  19737419   \n",
      "           AMZN        2  1702.95  1707.8000  1689.01  1692.43   3681522   \n",
      "           FB         17   167.37   171.8800   166.55   171.26  28187890   \n",
      "           GOOG       12  1150.06        NaN      NaN  1162.03   1443174   \n",
      "           TSLA       22   282.00   284.0000   270.10   276.54  18764740   \n",
      "2019-06-03 AAPL        8   174.67   175.4900   173.94   174.52  20810384   \n",
      "           AMZN        3  1695.97        NaN      NaN  1668.95   3996001   \n",
      "           FB         18   172.90   173.5700   171.27   172.51  21531723   \n",
      "           GOOG       13  1162.49  1167.5700  1155.49  1157.86   1099289   \n",
      "           TSLA       23   276.48   281.5058   274.39   276.24  10335485   \n",
      "2019-07-03 AAPL        9   173.87   174.4400   172.02   172.50  24796374   \n",
      "           AMZN        4  1667.37  1669.7500  1620.51  1625.95   4957017   \n",
      "           FB         19   171.50   171.7400   167.61   169.13  18306504   \n",
      "           GOOG       14  1155.72  1156.7600  1134.91  1143.30   1166559   \n",
      "           TSLA       24   278.84   284.7000   274.25   276.59   9442483   \n",
      "\n",
      "                   name  employees headquarters_city headquarters_state  \n",
      "date       symbol                                                        \n",
      "2019-01-03 AAPL    AAPL     132000         Cupertino                 CA  \n",
      "           AMZN    AMZN     613300           Seattle                 WA  \n",
      "           FB        FB      48268        Menlo Park                 CA  \n",
      "           GOOG    GOOG      98771     Mountain View                 CA  \n",
      "           TSLA    TSLA      48016         Palo Alto                 CA  \n",
      "2019-04-03 AAPL    AAPL     132000         Cupertino                 CA  \n",
      "           AMZN    AMZN     613300           Seattle                 WA  \n",
      "           FB        FB      48268        Menlo Park                 CA  \n",
      "           GOOG    GOOG      98771     Mountain View                 CA  \n",
      "           TSLA    TSLA      48016         Palo Alto                 CA  \n",
      "2019-05-03 AAPL    AAPL     132000         Cupertino                 CA  \n",
      "           AMZN    AMZN     613300           Seattle                 WA  \n",
      "           FB        FB      48268        Menlo Park                 CA  \n",
      "           GOOG    GOOG      98771     Mountain View                 CA  \n",
      "           TSLA    TSLA      48016         Palo Alto                 CA  \n",
      "2019-06-03 AAPL    AAPL     132000         Cupertino                 CA  \n",
      "           AMZN    AMZN     613300           Seattle                 WA  \n",
      "           FB        FB      48268        Menlo Park                 CA  \n",
      "           GOOG    GOOG      98771     Mountain View                 CA  \n",
      "           TSLA    TSLA      48016         Palo Alto                 CA  \n",
      "2019-07-03 AAPL    AAPL     132000         Cupertino                 CA  \n",
      "           AMZN    AMZN     613300           Seattle                 WA  \n",
      "           FB        FB      48268        Menlo Park                 CA  \n",
      "           GOOG    GOOG      98771     Mountain View                 CA  \n",
      "           TSLA    TSLA      48016         Palo Alto                 CA  \n"
     ]
    }
   ],
   "source": [
    "ket_qua_5_ngay =sorted_data.groupby(level=\"date\").head(5)\n",
    "print(ket_qua_5_ngay)"
   ]
  },
  {
   "cell_type": "markdown",
   "metadata": {},
   "source": [
    "LAB3.6\n"
   ]
  },
  {
   "cell_type": "markdown",
   "metadata": {},
   "source": [
    "1. Tạo Pivot Table từ DataFrame stocks với date làm chỉ mục, symbol làm cột, và giá \n",
    "trị trung bình của close làm giá trị."
   ]
  },
  {
   "cell_type": "code",
   "execution_count": 47,
   "metadata": {},
   "outputs": [
    {
     "name": "stdout",
     "output_type": "stream",
     "text": [
      "symbol        AAPL     AMZN      FB     GOOG    TSLA\n",
      "date                                                \n",
      "2019-01-03  174.97  1671.73  162.28  1140.99  294.79\n",
      "2019-04-03  175.85  1696.17  167.37  1147.80  285.36\n",
      "2019-05-03  175.53  1692.43  171.26  1162.03  276.54\n",
      "2019-06-03  174.52  1668.95  172.51  1157.86  276.24\n",
      "2019-07-03  172.50  1625.95  169.13  1143.30  276.59\n"
     ]
    }
   ],
   "source": [
    "pivot_table = pd.pivot_table(stocks, values='close', index='date', columns='symbol', aggfunc='mean')\n",
    "print(pivot_table)"
   ]
  },
  {
   "cell_type": "markdown",
   "metadata": {},
   "source": [
    "2. Thêm một cột tính tổng volume giao dịch cho mỗi mã chứng khoán (symbol)"
   ]
  },
  {
   "cell_type": "code",
   "execution_count": 48,
   "metadata": {},
   "outputs": [
    {
     "name": "stdout",
     "output_type": "stream",
     "text": [
      "symbol        AAPL     AMZN      FB     GOOG    TSLA  total_volume\n",
      "date                                                              \n",
      "2019-01-03  174.97  1671.73  162.28  1140.99  294.79           NaN\n",
      "2019-04-03  175.85  1696.17  167.37  1147.80  285.36           NaN\n",
      "2019-05-03  175.53  1692.43  171.26  1162.03  276.54           NaN\n",
      "2019-06-03  174.52  1668.95  172.51  1157.86  276.24           NaN\n",
      "2019-07-03  172.50  1625.95  169.13  1143.30  276.59           NaN\n"
     ]
    }
   ],
   "source": [
    "pivot_table['total_volume'] = stocks.groupby('symbol')['volume'].sum()\n",
    "print(pivot_table)"
   ]
  },
  {
   "cell_type": "markdown",
   "metadata": {},
   "source": [
    "3. Sắp xếp Pivot Table dựa trên tổng volume giao dịch, từ cao xuống thấp."
   ]
  },
  {
   "cell_type": "code",
   "execution_count": 49,
   "metadata": {},
   "outputs": [],
   "source": [
    "pivot_table_sorted = pivot_table.sort_values(by='total_volume', ascending=False)\n"
   ]
  },
  {
   "cell_type": "markdown",
   "metadata": {},
   "source": [
    "4. Hiển thị kết quả cho 5 mã chứng khoán có tổng volume giao dịch cao nhất"
   ]
  },
  {
   "cell_type": "code",
   "execution_count": 50,
   "metadata": {},
   "outputs": [
    {
     "name": "stdout",
     "output_type": "stream",
     "text": [
      "Kết quả cho 5 mã chứng khoán có tổng volume giao dịch cao nhất:\n",
      "symbol        AAPL     AMZN      FB     GOOG    TSLA  total_volume\n",
      "date                                                              \n",
      "2019-01-03  174.97  1671.73  162.28  1140.99  294.79           NaN\n",
      "2019-04-03  175.85  1696.17  167.37  1147.80  285.36           NaN\n",
      "2019-05-03  175.53  1692.43  171.26  1162.03  276.54           NaN\n",
      "2019-06-03  174.52  1668.95  172.51  1157.86  276.24           NaN\n",
      "2019-07-03  172.50  1625.95  169.13  1143.30  276.59           NaN\n"
     ]
    }
   ],
   "source": [
    "top_5_stocks = pivot_table_sorted.head()\n",
    "print(\"Kết quả cho 5 mã chứng khoán có tổng volume giao dịch cao nhất:\")\n",
    "print(top_5_stocks)"
   ]
  }
 ],
 "metadata": {
  "kernelspec": {
   "display_name": "Python 3",
   "language": "python",
   "name": "python3"
  },
  "language_info": {
   "codemirror_mode": {
    "name": "ipython",
    "version": 3
   },
   "file_extension": ".py",
   "mimetype": "text/x-python",
   "name": "python",
   "nbconvert_exporter": "python",
   "pygments_lexer": "ipython3",
   "version": "3.10.11"
  }
 },
 "nbformat": 4,
 "nbformat_minor": 2
}
