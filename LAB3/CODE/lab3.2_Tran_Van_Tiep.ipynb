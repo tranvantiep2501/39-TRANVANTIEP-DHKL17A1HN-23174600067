{
 "cells": [
  {
   "cell_type": "code",
   "execution_count": 1,
   "metadata": {},
   "outputs": [],
   "source": [
    "import pandas as pd"
   ]
  },
  {
   "cell_type": "markdown",
   "metadata": {},
   "source": [
    "ĐỌC FILE"
   ]
  },
  {
   "cell_type": "code",
   "execution_count": 2,
   "metadata": {},
   "outputs": [],
   "source": [
    "stocks1=pd.read_csv('D:/17A3KHDL/LAB3/DATA/stocks1.csv')"
   ]
  },
  {
   "cell_type": "markdown",
   "metadata": {},
   "source": [
    "KIỂM TRA XEM STOCKS1 CÓ NULL HAY KHÔNG"
   ]
  },
  {
   "cell_type": "code",
   "execution_count": 3,
   "metadata": {},
   "outputs": [
    {
     "name": "stdout",
     "output_type": "stream",
     "text": [
      "1.Số lượng data = Null trong mỗi cột là :\n",
      "date      0\n",
      "symbol    0\n",
      "open      0\n",
      "high      2\n",
      "low       2\n",
      "close     0\n",
      "volume    0\n",
      "dtype: int64\n",
      "Tổng số giá trị Null trong stocks1 là : 4\n"
     ]
    }
   ],
   "source": [
    "data_null=stocks1.isnull().sum()\n",
    "print('1.Số lượng data = Null trong mỗi cột là :')\n",
    "print(data_null)\n",
    "tong_null=stocks1.isnull().sum().sum()\n",
    "print('Tổng số giá trị Null trong stocks1 là :',tong_null)"
   ]
  },
  {
   "cell_type": "markdown",
   "metadata": {},
   "source": [
    "THAY THẾ DỮ LIỆU NULL Ở CỘT HIGH\n"
   ]
  },
  {
   "cell_type": "code",
   "execution_count": 4,
   "metadata": {},
   "outputs": [
    {
     "name": "stdout",
     "output_type": "stream",
     "text": [
      "Dữ liệu trung bình ở cột 'hight' là : 943.5115384615384\n",
      "\n",
      "Dữ liệu sau khi được thay thế Null ở cột 'high' là :\n",
      "0     1674.260000\n",
      "1     1709.430000\n",
      "2     1707.800000\n",
      "3      943.511538\n",
      "4     1669.750000\n",
      "5      175.150000\n",
      "6      177.750000\n",
      "7      176.000000\n",
      "8      175.490000\n",
      "9      174.440000\n",
      "10    1142.970000\n",
      "11    1158.280000\n",
      "12     943.511538\n",
      "13    1167.570000\n",
      "14    1156.760000\n",
      "Name: high, dtype: float64\n"
     ]
    },
    {
     "name": "stderr",
     "output_type": "stream",
     "text": [
      "C:\\Users\\Admin\\AppData\\Local\\Temp\\ipykernel_14492\\3803897010.py:3: FutureWarning: A value is trying to be set on a copy of a DataFrame or Series through chained assignment using an inplace method.\n",
      "The behavior will change in pandas 3.0. This inplace method will never work because the intermediate object on which we are setting values always behaves as a copy.\n",
      "\n",
      "For example, when doing 'df[col].method(value, inplace=True)', try using 'df.method({col: value}, inplace=True)' or df[col] = df[col].method(value) instead, to perform the operation inplace on the original object.\n",
      "\n",
      "\n",
      "  stocks1['high'].fillna(trung_binh_high,inplace=True)\n"
     ]
    }
   ],
   "source": [
    "trung_binh_high=stocks1['high'].mean()\n",
    "print(\"Dữ liệu trung bình ở cột 'hight' là :\",trung_binh_high)\n",
    "stocks1['high'].fillna(trung_binh_high,inplace=True)\n",
    "print(\"\\nDữ liệu sau khi được thay thế Null ở cột 'high' là :\")\n",
    "print(stocks1['high'])"
   ]
  },
  {
   "cell_type": "markdown",
   "metadata": {},
   "source": [
    "THAY THẾ DỮ LIỆU Ở CỘT LOW\n"
   ]
  },
  {
   "cell_type": "code",
   "execution_count": 5,
   "metadata": {},
   "outputs": [
    {
     "name": "stdout",
     "output_type": "stream",
     "text": [
      "Dữ liệu trung bình ở cột 'low' là : 926.7753846153846\n",
      "\n",
      "Dữ liệu sau khi được thay thế Null ở cột 'low' là :\n",
      "0     1651.000000\n",
      "1     1674.360000\n",
      "2     1689.010000\n",
      "3      926.775385\n",
      "4     1620.510000\n",
      "5      172.890000\n",
      "6      173.970000\n",
      "7      174.540000\n",
      "8      173.940000\n",
      "9      172.020000\n",
      "10    1124.750000\n",
      "11    1130.690000\n",
      "12     926.775385\n",
      "13    1155.490000\n",
      "14    1134.910000\n",
      "Name: low, dtype: float64\n"
     ]
    },
    {
     "name": "stderr",
     "output_type": "stream",
     "text": [
      "C:\\Users\\Admin\\AppData\\Local\\Temp\\ipykernel_14492\\1631977050.py:3: FutureWarning: A value is trying to be set on a copy of a DataFrame or Series through chained assignment using an inplace method.\n",
      "The behavior will change in pandas 3.0. This inplace method will never work because the intermediate object on which we are setting values always behaves as a copy.\n",
      "\n",
      "For example, when doing 'df[col].method(value, inplace=True)', try using 'df.method({col: value}, inplace=True)' or df[col] = df[col].method(value) instead, to perform the operation inplace on the original object.\n",
      "\n",
      "\n",
      "  stocks1['low'].fillna(trung_binh_low,inplace=True)\n"
     ]
    }
   ],
   "source": [
    "trung_binh_low=stocks1['low'].mean()\n",
    "print(\"Dữ liệu trung bình ở cột 'low' là :\",trung_binh_low)\n",
    "stocks1['low'].fillna(trung_binh_low,inplace=True)\n",
    "print(\"\\nDữ liệu sau khi được thay thế Null ở cột 'low' là :\")\n",
    "print(stocks1['low'])"
   ]
  },
  {
   "cell_type": "markdown",
   "metadata": {},
   "source": [
    "HIỂN THỊ THÔNG TIN TỔNG QUAN XÁC NHẬN KHÔNG CÒN DỮ LIỆU NULL"
   ]
  },
  {
   "cell_type": "code",
   "execution_count": 7,
   "metadata": {},
   "outputs": [
    {
     "name": "stdout",
     "output_type": "stream",
     "text": [
      "Thông tin tổng quan là :\n",
      "<class 'pandas.core.frame.DataFrame'>\n",
      "RangeIndex: 15 entries, 0 to 14\n",
      "Data columns (total 7 columns):\n",
      " #   Column  Non-Null Count  Dtype  \n",
      "---  ------  --------------  -----  \n",
      " 0   date    15 non-null     object \n",
      " 1   symbol  15 non-null     object \n",
      " 2   open    15 non-null     float64\n",
      " 3   high    15 non-null     float64\n",
      " 4   low     15 non-null     float64\n",
      " 5   close   15 non-null     float64\n",
      " 6   volume  15 non-null     int64  \n",
      "dtypes: float64(4), int64(1), object(2)\n",
      "memory usage: 968.0+ bytes\n",
      "None\n"
     ]
    }
   ],
   "source": [
    "print('Thông tin tổng quan là :')\n",
    "print(stocks1.info())"
   ]
  }
 ],
 "metadata": {
  "kernelspec": {
   "display_name": "Python 3",
   "language": "python",
   "name": "python3"
  },
  "language_info": {
   "codemirror_mode": {
    "name": "ipython",
    "version": 3
   },
   "file_extension": ".py",
   "mimetype": "text/x-python",
   "name": "python",
   "nbconvert_exporter": "python",
   "pygments_lexer": "ipython3",
   "version": "3.10.11"
  }
 },
 "nbformat": 4,
 "nbformat_minor": 2
}
