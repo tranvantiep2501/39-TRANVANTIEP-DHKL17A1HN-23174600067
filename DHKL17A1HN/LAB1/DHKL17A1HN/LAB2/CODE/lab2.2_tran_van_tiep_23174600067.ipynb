{
 "cells": [
  {
   "cell_type": "code",
   "execution_count": 1,
   "metadata": {},
   "outputs": [
    {
     "name": "stdout",
     "output_type": "stream",
     "text": [
      "Tệp tin :  [['id' 'Tên sinh viên' 'HP 1' 'HP 2' 'HP 3']\n",
      " ['1' 'Nguyễn Văn Bình' '3.04' '3.39' '6.7']\n",
      " ['2' 'Lê Thị Na' '5.8' '6.41' '6.62']\n",
      " ['3' 'Trần Văn Thành' '2.59' '3.57' '9.16']\n",
      " ['4' 'Phạm Thị Hồng' '3.81' '8.78' '9.24']\n",
      " ['5' 'Bùi Văn An' '8.91' '9.64' '6.39']\n",
      " ['6' 'Hoàng Thị Lan' '3.23' '4.72' '6.17']\n",
      " ['7' 'Vũ Văn Hùng' '2.35' '3.29' '6.89']\n",
      " ['8' 'Đặng Thị Mai' '2.48' '3.81' '4.84']\n",
      " ['9' 'Đỗ Văn Hải' '3.23' '2.61' '4.52']\n",
      " ['10' 'Ngô Thị Thanh' '7.02' '9.01' '9.15']\n",
      " ['11' 'Lương Văn Dũng' '2.29' '4.48' '5.51']\n",
      " ['12' 'Mai Thị Hằng' '3.51' '7.19' '5.13']\n",
      " ['13' 'Dương Văn Long' '6.74' '7.78' '6.19']\n",
      " ['14' 'Nguyễn Thị Hà' '9.86' '4.64' '3.33']\n",
      " ['15' 'Trần Văn Tuấn' '8.04' '5.12' '4.77']\n",
      " ['16' 'Lê Văn Phúc' '2.74' '8.88' '5.8']\n",
      " ['17' 'Phạm Thị Nhung' '3.04' '6.88' '3.91']\n",
      " ['18' 'Hoàng Văn Nam' '5.87' '4.41' '8.84']\n",
      " ['19' 'Bùi Thị Lan' '8.46' '2.63' '4.91']\n",
      " ['20' 'Vũ Thị Thanh' '3.74' '6.71' '3.44']\n",
      " ['21' 'Đặng Văn Hùng' '5.67' '8.05' '6.03']\n",
      " ['22' 'Đỗ Thị Hồng' '8.12' '2.46' '3.87']\n",
      " ['23' 'Ngô Văn Thành' '9.4' '5.31' '5.13']\n",
      " ['24' 'Lương Thị Mai' '3.91' '5.09' '8.82']\n",
      " ['25' 'Mai Văn Dũng' '4.26' '5.78' '8.14']\n",
      " ['26' 'Dương Thị Hằng' '4.41' '2.66' '5.4']\n",
      " ['27' 'Nguyễn Văn Long' '3.23' '8.3' '8.64']\n",
      " ['28' 'Trần Thị Hà' '9.25' '8.29' '9.1']\n",
      " ['29' 'Lê Văn Tuấn' '6.08' '2.67' '6.39']\n",
      " ['30' 'Phạm Thị Phúc' '3.85' '7.71' '5.75']]\n"
     ]
    },
    {
     "name": "stderr",
     "output_type": "stream",
     "text": [
      "<>:5: SyntaxWarning: invalid escape sequence '\\L'\n",
      "<>:5: SyntaxWarning: invalid escape sequence '\\L'\n",
      "C:\\Users\\Admin\\AppData\\Local\\Temp\\ipykernel_20320\\689260679.py:5: SyntaxWarning: invalid escape sequence '\\L'\n",
      "  f_path = 'D:\\Lập trình\\DHKL17A1HN\\LAB2\\DATA_Lab_2_Numpy\\diem_hoc_phan.csv'\n"
     ]
    }
   ],
   "source": [
    "import numpy as np \n",
    "import csv \n",
    "\n",
    "# Đọc dữ liệu từ file CSV : \n",
    "f_path = 'D:\\Lập trình\\DHKL17A1HN\\LAB2\\DATA_Lab_2_Numpy\\diem_hoc_phan.csv'\n",
    "with open(f_path, 'r', encoding = 'utf-8') as f : \n",
    "    csv_reader = csv.reader(f)\n",
    "    data = np.array([row for row in csv_reader])\n",
    "print(\"Tệp tin : \", data)"
   ]
  },
  {
   "cell_type": "code",
   "execution_count": 2,
   "metadata": {},
   "outputs": [
    {
     "ename": "AttributeError",
     "evalue": "'numpy.ndarray' object has no attribute 'quy_doi'",
     "output_type": "error",
     "traceback": [
      "\u001b[1;31m---------------------------------------------------------------------------\u001b[0m",
      "\u001b[1;31mAttributeError\u001b[0m                            Traceback (most recent call last)",
      "Cell \u001b[1;32mIn[2], line 20\u001b[0m\n\u001b[0;32m     18\u001b[0m     \u001b[38;5;28;01melse\u001b[39;00m: \n\u001b[0;32m     19\u001b[0m         \u001b[38;5;28;01mreturn\u001b[39;00m \u001b[38;5;124m'\u001b[39m\u001b[38;5;124mF\u001b[39m\u001b[38;5;124m'\u001b[39m\n\u001b[1;32m---> 20\u001b[0m \u001b[38;5;28mprint\u001b[39m(\u001b[38;5;124m\"\u001b[39m\u001b[38;5;124mData khi thay đổi : \u001b[39m\u001b[38;5;124m\"\u001b[39m, \u001b[43mdata\u001b[49m\u001b[38;5;241;43m.\u001b[39;49m\u001b[43mquy_doi\u001b[49m())\n",
      "\u001b[1;31mAttributeError\u001b[0m: 'numpy.ndarray' object has no attribute 'quy_doi'"
     ]
    }
   ],
   "source": [
    "# Quy đổi số sang hệ chữ : \n",
    "score = data[:, 2:]\n",
    "def quy_doi(score): \n",
    "    if score >= 8.5: \n",
    "        return 'A'\n",
    "    elif score >= 8.0: \n",
    "        return 'B+'\n",
    "    elif score >= 7.0: \n",
    "        return 'B'\n",
    "    elif score >= 6.5: \n",
    "        return 'C+'\n",
    "    elif score >= 5.5: \n",
    "        return 'C'\n",
    "    elif score >= 5.0: \n",
    "        return 'D+'\n",
    "    elif score >= 4.0: \n",
    "        return 'D'\n",
    "    else: \n",
    "        return 'F'\n",
    "print(\"Data khi thay đổi : \", data.quy_doi())"
   ]
  }
 ],
 "metadata": {
  "kernelspec": {
   "display_name": "Python 3",
   "language": "python",
   "name": "python3"
  },
  "language_info": {
   "codemirror_mode": {
    "name": "ipython",
    "version": 3
   },
   "file_extension": ".py",
   "mimetype": "text/x-python",
   "name": "python",
   "nbconvert_exporter": "python",
   "pygments_lexer": "ipython3",
   "version": "3.12.8"
  }
 },
 "nbformat": 4,
 "nbformat_minor": 2
}
