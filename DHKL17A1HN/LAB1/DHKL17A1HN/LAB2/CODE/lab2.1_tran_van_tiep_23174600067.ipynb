{
 "cells": [
  {
   "cell_type": "code",
   "execution_count": 1,
   "metadata": {},
   "outputs": [],
   "source": [
    "import numpy as np "
   ]
  },
  {
   "cell_type": "code",
   "execution_count": 2,
   "metadata": {},
   "outputs": [
    {
     "name": "stdout",
     "output_type": "stream",
     "text": [
      "Nhiệt độ trung bình trong tháng là :  19.513666666666666\n"
     ]
    }
   ],
   "source": [
    "# Tạo dữ liệu mô phỏng trong khoảng từ 10 đến 30 : \n",
    "nhiet_do = np.round(np.random.uniform(10.0, 30.0, size = 30), 2)\n",
    "nhiet_do_tb = np.mean(nhiet_do)\n",
    "print(\"Nhiệt độ trung bình trong tháng là : \", nhiet_do_tb)"
   ]
  },
  {
   "cell_type": "code",
   "execution_count": 3,
   "metadata": {},
   "outputs": [
    {
     "name": "stdout",
     "output_type": "stream",
     "text": [
      "Ngày có nhiệt độ cao nhất là :  29\n",
      "Ngày có nhiệt độ thấp nhất là :  13\n",
      "Ngày có độ trung bình lớn nhất là :  14\n"
     ]
    }
   ],
   "source": [
    "# Xác định ngày có nhiệt độ cao nhất, thấp nhất và đó là những ngày nào : \n",
    "day_max = np.argmax(nhiet_do) + 1 \n",
    "day_min = np.argmin(nhiet_do) + 1\n",
    "# NHiệt độ cao nhất và thấp nhất \n",
    "nd_max = np.max(nhiet_do)\n",
    "nd_min = np.min(nhiet_do)\n",
    "\n",
    "print(\"Ngày có nhiệt độ cao nhất là : \", day_max)\n",
    "print(\"Ngày có nhiệt độ thấp nhất là : \", day_min)\n",
    "\n",
    "# Xác định ngyaf có sự chênh lệch nhiệt độ lớn nhất : \n",
    "ngay_truoc = nhiet_do[:-1]\n",
    "ngay_sau = nhiet_do[1:]\n",
    "chenh_lech = np.abs(ngay_sau - ngay_truoc)  # Tính sự chênh lệch nhiệt độ tuyệt đối\n",
    "\n",
    "# Tìm ngày có sự chênh lệch lớn nhất\n",
    "day_max_chenh_lech = np.argmax(chenh_lech) + 1  # +1 vì đang sử dụng chỉ số bắt đầu từ 0\n",
    "\n",
    "print(\"Ngày có độ trung bình lớn nhất là : \", day_max_chenh_lech)\n",
    "\n"
   ]
  },
  {
   "cell_type": "code",
   "execution_count": 4,
   "metadata": {},
   "outputs": [
    {
     "name": "stdout",
     "output_type": "stream",
     "text": [
      "Nhiệt độ lớn hơn 20 là :  [27.94 21.64 20.04 25.65 21.03 27.08 27.9  21.22 22.92 24.62 20.64 28.63\n",
      " 25.9 ]\n",
      "Nhiệt độ tại các chỉ mục là :  [16.12 13.68 25.65 27.08 24.62]\n",
      "Nhiệt độ của các ngày chẵn và lẻ lần lượt là :  18.31 20.717333333333332\n"
     ]
    }
   ],
   "source": [
    "nhietdo_lon_20 = nhiet_do[nhiet_do> 20]\n",
    "print(\"Nhiệt độ lớn hơn 20 là : \", nhietdo_lon_20)\n",
    "# lấy nhiệt độ tại các chỉ muc : \n",
    "chi_muc = [5,10,15,20,25]\n",
    "nhietdo_chi_muc = nhiet_do[np.array(chi_muc) - 1]\n",
    "print(\"Nhiệt độ tại các chỉ mục là : \", nhietdo_chi_muc)\n",
    "# tìm nhiệt độ trung bình vào các ngày chẵn lẻ : \n",
    "ngay_le = nhiet_do[::2]\n",
    "ngay_chan = nhiet_do[1::2]\n",
    "nhiet_tb_le = np.mean(ngay_le)\n",
    "nhiet_tb_chan = np.mean(ngay_chan)\n",
    "print(\"Nhiệt độ của các ngày chẵn và lẻ lần lượt là : \", nhiet_tb_chan, nhiet_tb_le)\n",
    "\n"
   ]
  },
  {
   "cell_type": "code",
   "execution_count": null,
   "metadata": {},
   "outputs": [],
   "source": []
  }
 ],
 "metadata": {
  "kernelspec": {
   "display_name": "Python 3",
   "language": "python",
   "name": "python3"
  },
  "language_info": {
   "codemirror_mode": {
    "name": "ipython",
    "version": 3
   },
   "file_extension": ".py",
   "mimetype": "text/x-python",
   "name": "python",
   "nbconvert_exporter": "python",
   "pygments_lexer": "ipython3",
   "version": "3.12.8"
  }
 },
 "nbformat": 4,
 "nbformat_minor": 2
}
