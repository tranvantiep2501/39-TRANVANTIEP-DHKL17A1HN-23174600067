{
 "cells": [
  {
   "cell_type": "code",
   "execution_count": 1,
   "metadata": {},
   "outputs": [],
   "source": [
    "import numpy as np"
   ]
  },
  {
   "cell_type": "code",
   "execution_count": 3,
   "metadata": {},
   "outputs": [],
   "source": [
    "# Đọc dữ liệu từ hai tập tin: \n",
    "hieu_suat = []\n",
    "with open('D:\\\\Lập trình\\\\DHKL17A1HN\\\\LAB2\\\\DATA_Lab_2_Numpy\\\\efficiency.txt', 'r', encoding = 'utf-8') as f:\n",
    "    for dong in f:\n",
    "        hieu_suat.append(int(dong.strip()))\n",
    "\n",
    "ca_lam_viec = []\n",
    "with open('D:\\\\Lập trình\\\\DHKL17A1HN\\\\LAB2\\\\DATA_Lab_2_Numpy\\\\shifts.txt', 'r', encoding = 'utf-8') as f:\n",
    "    for dong in f:\n",
    "        ca_lam_viec.append(dong.strip())\n"
   ]
  },
  {
   "cell_type": "code",
   "execution_count": 4,
   "metadata": {},
   "outputs": [
    {
     "name": "stdout",
     "output_type": "stream",
     "text": [
      "Kiểu dữ liệu của np_ca_lam_viec: <U9\n",
      "Kiểu dữ liệu của np_hieu_suat: int64\n"
     ]
    }
   ],
   "source": [
    "# Tạo mảng numpy np_ca_lam_viec từ danh sách ca_lam_viec và kiểm tra kiểu dữ liệu : \n",
    "np_ca_lam_viec = np.array(ca_lam_viec)\n",
    "print(\"Kiểu dữ liệu của np_ca_lam_viec:\", np_ca_lam_viec.dtype)\n",
    "\n",
    "# Tạo mảng numpy np_hieu_suat từ danh sách hieu_suat và kiểm tra kiểu dữ liệu: \n",
    "np_hieu_suat = np.array(hieu_suat)\n",
    "print(\"Kiểu dữ liệu của np_hieu_suat:\", np_hieu_suat.dtype)"
   ]
  },
  {
   "cell_type": "code",
   "execution_count": 5,
   "metadata": {},
   "outputs": [
    {
     "name": "stdout",
     "output_type": "stream",
     "text": [
      "Hiệu suất trung bình của ca 'Morning': 96.8529411764706\n",
      "Hiệu suất trung bình của những ca khác ngoài ca MOrning là :  98.93939393939394\n"
     ]
    }
   ],
   "source": [
    "# Tính hiệu suất sản xuất trung bình của những nhân viên làm việc vào ca 'Morning': \n",
    "chi_so_ca_sang = np.where(np_ca_lam_viec == 'Morning')\n",
    "hieu_suat_ca_sang = np_hieu_suat[chi_so_ca_sang]\n",
    "\n",
    "hieu_suat_trung_binh_ca_sang = np.mean(hieu_suat_ca_sang)\n",
    "print(\"Hiệu suất trung bình của ca 'Morning':\", hieu_suat_trung_binh_ca_sang)\n",
    "\n",
    "# Tính hiệu suất trung bình của những nhân viên làm việc trong các ca khác: \n",
    "chi_so_ca_khac = np.where(np_ca_lam_viec != 'Morning')\n",
    "hieu_suat_ca_khac = np_hieu_suat[chi_so_ca_khac]\n",
    "\n",
    "hieu_suat_trung_binh_ca_khac = np.mean(hieu_suat_ca_khac)\n",
    "print(\"Hiệu suất trung bình của những ca khác ngoài ca MOrning là : \", hieu_suat_trung_binh_ca_khac)"
   ]
  }
 ],
 "metadata": {
  "kernelspec": {
   "display_name": "Python 3",
   "language": "python",
   "name": "python3"
  },
  "language_info": {
   "codemirror_mode": {
    "name": "ipython",
    "version": 3
   },
   "file_extension": ".py",
   "mimetype": "text/x-python",
   "name": "python",
   "nbconvert_exporter": "python",
   "pygments_lexer": "ipython3",
   "version": "3.12.8"
  }
 },
 "nbformat": 4,
 "nbformat_minor": 2
}
