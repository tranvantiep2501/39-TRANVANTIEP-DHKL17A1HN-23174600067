{
 "cells": [
  {
   "cell_type": "code",
   "execution_count": 1,
   "metadata": {},
   "outputs": [],
   "source": [
    "import numpy as np "
   ]
  },
  {
   "cell_type": "code",
   "execution_count": null,
   "metadata": {},
   "outputs": [
    {
     "ename": "ValueError",
     "evalue": "could not convert string to float: '[[74'",
     "output_type": "error",
     "traceback": [
      "\u001b[1;31m---------------------------------------------------------------------------\u001b[0m",
      "\u001b[1;31mValueError\u001b[0m                                Traceback (most recent call last)",
      "Cell \u001b[1;32mIn[27], line 10\u001b[0m\n\u001b[0;32m      7\u001b[0m         baseball\u001b[38;5;241m.\u001b[39mappend(i\u001b[38;5;241m.\u001b[39mstrip())\n\u001b[0;32m      9\u001b[0m baseball_str \u001b[38;5;241m=\u001b[39m \u001b[38;5;124m'\u001b[39m\u001b[38;5;124m'\u001b[39m\u001b[38;5;241m.\u001b[39mjoin(baseball)\n\u001b[1;32m---> 10\u001b[0m baseball \u001b[38;5;241m=\u001b[39m [\u001b[38;5;28;43mfloat\u001b[39;49m\u001b[43m(\u001b[49m\u001b[43mx\u001b[49m\u001b[43m)\u001b[49m \u001b[38;5;28;01mfor\u001b[39;00m x \u001b[38;5;129;01min\u001b[39;00m baseball_str\u001b[38;5;241m.\u001b[39msplit(\u001b[38;5;124m'\u001b[39m\u001b[38;5;124m,\u001b[39m\u001b[38;5;124m'\u001b[39m)]\n\u001b[0;32m     11\u001b[0m \u001b[38;5;28mprint\u001b[39m(baseball)\n",
      "\u001b[1;31mValueError\u001b[0m: could not convert string to float: '[[74'"
     ]
    }
   ],
   "source": [
    "baseball = []\n",
    "\n",
    "file_path = 'baseball_2D.txt'\n",
    "\n",
    "with open(file_path, 'r', encoding='utf-8-sig') as f : \n",
    "    for i in f : \n",
    "        baseball.append(i.strip())\n",
    "\n",
    "baseball_str = ''.join(baseball)\n",
    "baseball = [float(x) for x in baseball_str.split(',')]\n",
    "\n",
    "np_baseball = np.array(baseball)\n"
   ]
  },
  {
   "cell_type": "code",
   "execution_count": 21,
   "metadata": {},
   "outputs": [
    {
     "name": "stdout",
     "output_type": "stream",
     "text": [
      "()\n",
      "1\n"
     ]
    }
   ],
   "source": [
    "# Ý 1 : Xem nữ liệu và kích thước của np.baseball ; \n",
    "print(np_baseball.shape)\n",
    "print(np_baseball.size)"
   ]
  },
  {
   "cell_type": "code",
   "execution_count": 24,
   "metadata": {},
   "outputs": [
    {
     "ename": "IndexError",
     "evalue": "too many indices for array: array is 0-dimensional, but 1 were indexed",
     "output_type": "error",
     "traceback": [
      "\u001b[1;31m---------------------------------------------------------------------------\u001b[0m",
      "\u001b[1;31mIndexError\u001b[0m                                Traceback (most recent call last)",
      "Cell \u001b[1;32mIn[24], line 2\u001b[0m\n\u001b[0;32m      1\u001b[0m \u001b[38;5;66;03m# Ý 2 : IN giá trị dòng thứ 50 : \u001b[39;00m\n\u001b[1;32m----> 2\u001b[0m \u001b[43mnp_baseball\u001b[49m\u001b[43m[\u001b[49m\u001b[38;5;241;43m50\u001b[39;49m\u001b[43m]\u001b[49m\n",
      "\u001b[1;31mIndexError\u001b[0m: too many indices for array: array is 0-dimensional, but 1 were indexed"
     ]
    }
   ],
   "source": [
    "# Ý 2 : IN giá trị dòng thứ 50 : \n",
    "np_baseball[50]"
   ]
  },
  {
   "cell_type": "code",
   "execution_count": null,
   "metadata": {},
   "outputs": [],
   "source": [
    "# Ý 3 : lấy dữ liệu từ hai cột của np_baseball\n",
    "np_weight = np_baseball[:, 1]\n",
    "np_height = np_baseball[0]"
   ]
  },
  {
   "cell_type": "code",
   "execution_count": null,
   "metadata": {},
   "outputs": [],
   "source": [
    "# ý 4 : Chiều cao của vận động viên thứ 124 ; \n",
    "np_weight[124]"
   ]
  },
  {
   "cell_type": "code",
   "execution_count": null,
   "metadata": {},
   "outputs": [],
   "source": [
    "# ý 5 : Cho biết chiều cao trung bình, cân nặng trung bình của các cầu thủ : \n",
    "np_weight_avarage = np.mean(np_weight)\n",
    "np_height_avarage = np.mean(np_height)\n"
   ]
  },
  {
   "cell_type": "code",
   "execution_count": null,
   "metadata": {},
   "outputs": [],
   "source": [
    "# ý 6 : Nhận xét mối tương quan \n",
    "correlation = np.corrcoef(np_baseball[:, 0], np_weight)[0, 1]\n",
    "if correlation > 0:\n",
    "    print(\"\\nCó mối tương quan thuận giữa chiều cao và cân nặng.\")\n",
    "elif correlation < 0:\n",
    "    print(\"\\nCó mối tương quan nghịch giữa chiều cao và cân nặng.\")\n",
    "else:\n",
    "    print(\"\\nKhông có mối tương quan giữa chiều cao và cân nặng.\")"
   ]
  }
 ],
 "metadata": {
  "kernelspec": {
   "display_name": "Python 3",
   "language": "python",
   "name": "python3"
  },
  "language_info": {
   "codemirror_mode": {
    "name": "ipython",
    "version": 3
   },
   "file_extension": ".py",
   "mimetype": "text/x-python",
   "name": "python",
   "nbconvert_exporter": "python",
   "pygments_lexer": "ipython3",
   "version": "3.12.7"
  }
 },
 "nbformat": 4,
 "nbformat_minor": 2
}
